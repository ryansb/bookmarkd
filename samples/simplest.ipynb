{
  "nbformat": 3,
  "worksheets": [
    {
      "cells": [
        {
          "source": "# Hello World",
          "cell_type": "markdown",
          "metadata": {}
        },
        {
          "source": "## A sample program",
          "cell_type": "markdown",
          "metadata": {}
        },
        {
          "source": "This demonstrates ways to print \"Hello World\" in Python",
          "cell_type": "markdown",
          "metadata": {}
        },
        {
          "cell_type": "code",
          "language": "python",
          "outputs": [],
          "collapsed": false,
          "input": "print \"Hello World\"\n",
          "metadata": {}
        },
        {
          "source": "Strings can be added together",
          "cell_type": "markdown",
          "metadata": {}
        },
        {
          "cell_type": "code",
          "language": "python",
          "outputs": [],
          "collapsed": false,
          "input": "print \"Hello\" + \" \" + \"World\"\n",
          "metadata": {}
        },
        {
          "source": "Or comma separated",
          "cell_type": "markdown",
          "metadata": {}
        },
        {
          "cell_type": "code",
          "language": "python",
          "outputs": [],
          "collapsed": false,
          "input": "print \"Hello\", \"World\"\n",
          "metadata": {}
        },
        {
          "source": "Or even *multiplied*",
          "cell_type": "markdown",
          "metadata": {}
        },
        {
          "cell_type": "code",
          "language": "python",
          "outputs": [],
          "collapsed": false,
          "input": "print \"Hello World\" * 4\n",
          "metadata": {}
        }
      ],
      "metadata": {}
    }
  ],
  "metadata": {
    "name": [
      "simplest"
    ]
  },
  "nbformat_minor": 0
}
