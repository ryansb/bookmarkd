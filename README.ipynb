{
  "nbformat": 3,
  "worksheets": [
    {
      "cells": [
        {
          "source": "# (note)book markd(own)\n\n## Write markdown, use notebooks\n\nWith `bookmarkd` you can use any text editor you like to write markdown with\nPython code blocks and render them as an IPython notebook.\n\nThis README can be converted to a notebook using the command\n`bookmarkd convert --join-blocks README.md README.ipynb`\n\n## Usage",
          "cell_type": "markdown",
          "metadata": {}
        },
        {
          "cell_type": "code",
          "language": "python",
          "outputs": [],
          "collapsed": false,
          "input": "## markdown -> notebook\n$ bookmarkd convert foo.md foo.ipynb\n## notebook -> markdown, not done yet\n$ bookmarkd convert foo.ipynb foo.md\n## notebook -> markdown using nbconvert\n$ ipython nbconvert --to markdown foo.ipynb\n\n# receive markdown via stdin\n$ bookmarkd convert - foo.ipynb\n# output notebook on stdout\n$ bookmarkd convert foo.md -",
          "metadata": {}
        },
        {
          "source": "There's also a `--join-blocks` option that will merge adjacent markdown blocks\nif they aren't separated by a line with a horizontal rule (`---`).\n\nLet's see some Python now!",
          "cell_type": "markdown",
          "metadata": {}
        },
        {
          "cell_type": "code",
          "language": "python",
          "outputs": [],
          "collapsed": false,
          "input": "print \"Hello World\"",
          "metadata": {}
        },
        {
          "source": "When you write multiple markdown blocks and separate them with a \n`---`\n\nThey will be rendered as separate markdown cells, but blocks that aren't\nseparated will just be merged nto the same cell.\n\nNow let's see some more Python.",
          "cell_type": "markdown",
          "metadata": {}
        },
        {
          "cell_type": "code",
          "language": "python",
          "outputs": [],
          "collapsed": false,
          "input": "print \"Hello\" + \" \" + \"World\"",
          "metadata": {}
        },
        {
          "source": "# Contributing\n\nPlease see the [Code of Conduct for contributors][CoC]. Pull requests are\nwelcome, but please include some docs for your change. You can do this either\nin the README or in `bookmarkd --help`.\n\n[CoC]: https://github.com/ryansb/bookmarkd/blob/master/CONTRIBUTOR_CONDUCT.md",
          "cell_type": "markdown",
          "metadata": {}
        },
        {
          "source": "# License\n\nBookmarkd is made available under the [GNU Affero General Public\nLicense][agpl], see [LICENSE.txt][license] for details.\n\n[agpl]: http://www.gnu.org/licenses/agpl.html\n[license]: https://github.com/ryansb/bookmarkd/blob/master/LICENSE.txt",
          "cell_type": "markdown",
          "metadata": {}
        }
      ],
      "metadata": {}
    }
  ],
  "metadata": {
    "name": [
      "README"
    ]
  },
  "nbformat_minor": 0
}